{
 "cells": [
  {
   "cell_type": "code",
   "execution_count": 1,
   "metadata": {},
   "outputs": [
    {
     "name": "stderr",
     "output_type": "stream",
     "text": [
      "/home/luca/anaconda3/envs/py27/lib/python2.7/site-packages/h5py/__init__.py:36: FutureWarning: Conversion of the second argument of issubdtype from `float` to `np.floating` is deprecated. In future, it will be treated as `np.float64 == np.dtype(float).type`.\n",
      "  from ._conv import register_converters as _register_converters\n"
     ]
    },
    {
     "name": "stdout",
     "output_type": "stream",
     "text": [
      "ordered-set package not found..\n"
     ]
    }
   ],
   "source": [
    "# Last run with python 2.7 and tensorflow cpu version (that's why there are some warning here and there...)\n",
    "# Previously was run with python 3.5 and tensorflow gpu verision\n",
    "\n",
    "from __future__ import absolute_import, print_function, division\n",
    "\n",
    "import far_ho as far\n",
    "import tensorflow as tf\n",
    "import far_ho.examples as far_ex\n",
    "\n",
    "import os"
   ]
  },
  {
   "cell_type": "code",
   "execution_count": 2,
   "metadata": {},
   "outputs": [],
   "source": [
    "import matplotlib.pyplot as plt\n",
    "import seaborn as sbn\n",
    "sbn.set_style('whitegrid')\n",
    "%matplotlib inline"
   ]
  },
  {
   "cell_type": "code",
   "execution_count": 3,
   "metadata": {
    "collapsed": true
   },
   "outputs": [],
   "source": [
    "tf.reset_default_graph()\n",
    "ss = tf.InteractiveSession()"
   ]
  },
  {
   "cell_type": "code",
   "execution_count": 4,
   "metadata": {
    "collapsed": true
   },
   "outputs": [],
   "source": [
    "x = tf.placeholder(tf.float32, shape=(None, 28**2), name='x')\n",
    "y = tf.placeholder(tf.float32, shape=(None, 10), name='y')"
   ]
  },
  {
   "cell_type": "code",
   "execution_count": 5,
   "metadata": {},
   "outputs": [
    {
     "name": "stdout",
     "output_type": "stream",
     "text": [
      "Extracting /media/luca/DATA/Progs/FAR-HO/far_ho/examples/MNIST_DATA/train-images-idx3-ubyte.gz\n",
      "Extracting /media/luca/DATA/Progs/FAR-HO/far_ho/examples/MNIST_DATA/train-labels-idx1-ubyte.gz\n",
      "Extracting /media/luca/DATA/Progs/FAR-HO/far_ho/examples/MNIST_DATA/t10k-images-idx3-ubyte.gz\n",
      "Extracting /media/luca/DATA/Progs/FAR-HO/far_ho/examples/MNIST_DATA/t10k-labels-idx1-ubyte.gz\n",
      "datasets.redivide_data:, computed partitions numbers - [0, 7000, 14000, 70000] len all 70000 DONE\n"
     ]
    }
   ],
   "source": [
    "# load a small portion of mnist data\n",
    "datasets = far_ex.mnist(folder=os.path.join(os.getcwd(), 'MNIST_DATA'), partitions=(.1, .1,))\n",
    "datasets = far_ex.Datasets.from_list(datasets)"
   ]
  },
  {
   "cell_type": "code",
   "execution_count": 6,
   "metadata": {},
   "outputs": [
    {
     "name": "stdout",
     "output_type": "stream",
     "text": [
      "Ground model weights (parameters)\n",
      "<tf.Variable 'model/fully_connected/weights:0' shape=(784, 300) dtype=float32_ref>\n",
      "<tf.Variable 'model/fully_connected/biases:0' shape=(300,) dtype=float32_ref>\n",
      "<tf.Variable 'model/fully_connected_1/weights:0' shape=(300, 10) dtype=float32_ref>\n",
      "<tf.Variable 'model/fully_connected_1/biases:0' shape=(10,) dtype=float32_ref>\n",
      "Initial model weights (hyperparameters)\n",
      "<tf.Variable 'inital_weight_model/fully_connected/weights:0' shape=(784, 300) dtype=float32_ref>\n",
      "<tf.Variable 'inital_weight_model/fully_connected/biases:0' shape=(300,) dtype=float32_ref>\n",
      "<tf.Variable 'inital_weight_model/fully_connected_1/weights:0' shape=(300, 10) dtype=float32_ref>\n",
      "<tf.Variable 'inital_weight_model/fully_connected_1/biases:0' shape=(10,) dtype=float32_ref>\n"
     ]
    }
   ],
   "source": [
    "# build up a feddforward NN calssifier\n",
    "import tensorflow.contrib.layers as tcl\n",
    "with tf.variable_scope('model'):\n",
    "    h1 = tcl.fully_connected(x, 300)\n",
    "    out = tcl.fully_connected(h1, datasets.train.dim_target)\n",
    "    print('Ground model weights (parameters)')\n",
    "    [print(e) for e in tf.model_variables()];\n",
    "with tf.variable_scope('inital_weight_model'):\n",
    "    h1_hyp = tcl.fully_connected(x, 300,\n",
    "                                 variables_collections=far.HYPERPARAMETERS_COLLECTIONS, \n",
    "                                trainable=False)\n",
    "    out_hyp = tcl.fully_connected(h1_hyp, datasets.train.dim_target,\n",
    "                                 variables_collections=far.HYPERPARAMETERS_COLLECTIONS,\n",
    "                                 trainable=False)\n",
    "    print('Initial model weights (hyperparameters)')\n",
    "    [print(e) for e in far.utils.hyperparameters()];\n",
    "#     far.utils.remove_from_collection(far.GraphKeys.MODEL_VARIABLES, *far.utils.hyperparameters())"
   ]
  },
  {
   "cell_type": "code",
   "execution_count": 7,
   "metadata": {
    "collapsed": true
   },
   "outputs": [],
   "source": [
    "# get an hyperparameter for weighting the examples for the inner objective loss (training error)\n",
    "weights = far.get_hyperparameter('ex_weights', tf.zeros(datasets.train.num_examples))"
   ]
  },
  {
   "cell_type": "code",
   "execution_count": 8,
   "metadata": {},
   "outputs": [
    {
     "name": "stdout",
     "output_type": "stream",
     "text": [
      "WARNING:tensorflow:From <ipython-input-8-f0e5e37c4cb9>:4: softmax_cross_entropy_with_logits (from tensorflow.python.ops.nn_ops) is deprecated and will be removed in a future version.\n",
      "Instructions for updating:\n",
      "\n",
      "Future major versions of TensorFlow will allow gradients to flow\n",
      "into the labels input on backprop by default.\n",
      "\n",
      "See tf.nn.softmax_cross_entropy_with_logits_v2.\n",
      "\n"
     ]
    }
   ],
   "source": [
    "# build loss and accuracy \n",
    "# inner objective (training error), weighted mean of cross entropy errors (with sigmoid to be sure is > 0)\n",
    "with tf.name_scope('errors'):\n",
    "    tr_loss = tf.reduce_mean(tf.sigmoid(weights)*tf.nn.softmax_cross_entropy_with_logits(labels=y, logits=out))\n",
    "    # outer objective (validation error) (not weighted)\n",
    "    val_loss = tf.reduce_mean(tf.nn.softmax_cross_entropy_with_logits(labels=y, logits=out))\n",
    "accuracy = tf.reduce_mean(tf.cast(tf.equal(tf.argmax(y, 1), tf.argmax(out, 1)), tf.float32))"
   ]
  },
  {
   "cell_type": "code",
   "execution_count": 9,
   "metadata": {
    "collapsed": true
   },
   "outputs": [],
   "source": [
    "# optimizers\n",
    "# get an hyperparameter for the learning rate\n",
    "lr = far.get_hyperparameter('lr', 0.01)\n",
    "io_optim = far.GradientDescentOptimizer(lr)  # for training error minimization an optimizer from far_ho is needed\n",
    "oo_optim = tf.train.AdamOptimizer()  # for outer objective optimizer all optimizers from tf are valid"
   ]
  },
  {
   "cell_type": "code",
   "execution_count": 10,
   "metadata": {},
   "outputs": [
    {
     "name": "stdout",
     "output_type": "stream",
     "text": [
      "hyperparameters to optimize\n",
      "<tf.Variable 'inital_weight_model/fully_connected/weights:0' shape=(784, 300) dtype=float32_ref>\n",
      "<tf.Variable 'inital_weight_model/fully_connected/biases:0' shape=(300,) dtype=float32_ref>\n",
      "<tf.Variable 'inital_weight_model/fully_connected_1/weights:0' shape=(300, 10) dtype=float32_ref>\n",
      "<tf.Variable 'inital_weight_model/fully_connected_1/biases:0' shape=(10,) dtype=float32_ref>\n",
      "<tf.Variable 'ex_weights:0' shape=(7000,) dtype=float32_ref>\n",
      "<tf.Variable 'lr:0' shape=() dtype=float32_ref>\n"
     ]
    }
   ],
   "source": [
    "print('hyperparameters to optimize')\n",
    "[print(h) for h in far.hyperparameters()];"
   ]
  },
  {
   "cell_type": "code",
   "execution_count": 11,
   "metadata": {},
   "outputs": [],
   "source": [
    "# build hyperparameter optimizer\n",
    "farho = far.HyperOptimizer()\n",
    "run = farho.minimize(val_loss, oo_optim, tr_loss, io_optim, \n",
    "                     init_dynamics_dict={v: h for v, h in zip(tf.model_variables(), far.utils.hyperparameters()[:4])})"
   ]
  },
  {
   "cell_type": "code",
   "execution_count": 12,
   "metadata": {},
   "outputs": [
    {
     "name": "stdout",
     "output_type": "stream",
     "text": [
      "Variables (or tensors) that will store the values of the hypergradients\n",
      "Tensor(\"errors/Mean_1_1/gradients_3/errors/Mean_1_1/Vectorization_2/Reshape_1_grad/Reshape:0\", shape=(300,), dtype=float32)\n",
      "Tensor(\"errors/Mean_1_1/gradients_3/errors/Mean_1_1/Vectorization_2/Reshape_grad/Reshape:0\", shape=(784, 300), dtype=float32)\n",
      "<tf.Variable 'errors/Mean_1/ex_weights/hypergradient:0' shape=(7000,) dtype=float32_ref>\n",
      "Tensor(\"errors/Mean_1_1/gradients_3/errors/Mean_1_1/Vectorization_2/Reshape_2_grad/Reshape:0\", shape=(300, 10), dtype=float32)\n",
      "Tensor(\"errors/Mean_1_1/gradients_3/errors/Mean_1_1/Vectorization_2/Reshape_3_grad/Reshape:0\", shape=(10,), dtype=float32)\n",
      "<tf.Variable 'errors/Mean_1/lr/hypergradient:0' shape=() dtype=float32_ref>\n"
     ]
    }
   ],
   "source": [
    "print('Variables (or tensors) that will store the values of the hypergradients')\n",
    "print(*far.hypergradients(), sep='\\n')"
   ]
  },
  {
   "cell_type": "code",
   "execution_count": 13,
   "metadata": {},
   "outputs": [
    {
     "name": "stdout",
     "output_type": "stream",
     "text": [
      "training accuracy 0.10657143\n",
      "validation accuracy 0.10414286\n",
      "--------------------------------------------------\n",
      "training accuracy 0.49142858\n",
      "validation accuracy 0.463\n",
      "learning rate 0.011\n",
      "norm of examples weight 0.0786997\n",
      "--------------------------------------------------\n",
      "training accuracy 0.5412857\n",
      "validation accuracy 0.5167143\n",
      "learning rate 0.011991728\n",
      "norm of examples weight 0.15491235\n",
      "--------------------------------------------------\n",
      "training accuracy 0.651\n",
      "validation accuracy 0.62057143\n",
      "learning rate 0.012977126\n",
      "norm of examples weight 0.22778706\n",
      "--------------------------------------------------\n",
      "training accuracy 0.67071426\n",
      "validation accuracy 0.64185715\n",
      "learning rate 0.013939605\n",
      "norm of examples weight 0.30000913\n",
      "--------------------------------------------------\n",
      "training accuracy 0.6807143\n",
      "validation accuracy 0.65828574\n",
      "learning rate 0.014869263\n",
      "norm of examples weight 0.37109795\n",
      "--------------------------------------------------\n",
      "training accuracy 0.6892857\n",
      "validation accuracy 0.6668571\n",
      "learning rate 0.015759856\n",
      "norm of examples weight 0.44072804\n",
      "--------------------------------------------------\n",
      "training accuracy 0.6957143\n",
      "validation accuracy 0.677\n",
      "learning rate 0.01660772\n",
      "norm of examples weight 0.5086269\n",
      "--------------------------------------------------\n",
      "training accuracy 0.7015714\n",
      "validation accuracy 0.685\n",
      "learning rate 0.01741094\n",
      "norm of examples weight 0.5745802\n",
      "--------------------------------------------------\n",
      "training accuracy 0.70357144\n",
      "validation accuracy 0.6915714\n",
      "learning rate 0.018168906\n",
      "norm of examples weight 0.6384008\n",
      "--------------------------------------------------\n",
      "training accuracy 0.7074286\n",
      "validation accuracy 0.6965714\n",
      "learning rate 0.018881945\n",
      "norm of examples weight 0.69995666\n",
      "--------------------------------------------------\n",
      "training accuracy 0.7095714\n",
      "validation accuracy 0.7007143\n",
      "learning rate 0.01955109\n",
      "norm of examples weight 0.7591762\n",
      "--------------------------------------------------\n",
      "training accuracy 0.71085715\n",
      "validation accuracy 0.7038571\n",
      "learning rate 0.0201779\n",
      "norm of examples weight 0.8160307\n",
      "--------------------------------------------------\n",
      "training accuracy 0.7131429\n",
      "validation accuracy 0.7052857\n",
      "learning rate 0.02076423\n",
      "norm of examples weight 0.8705156\n",
      "--------------------------------------------------\n",
      "training accuracy 0.714\n",
      "validation accuracy 0.7082857\n",
      "learning rate 0.021312008\n",
      "norm of examples weight 0.9226469\n",
      "--------------------------------------------------\n",
      "training accuracy 0.7164286\n",
      "validation accuracy 0.70942855\n",
      "learning rate 0.021823296\n",
      "norm of examples weight 0.9724517\n",
      "--------------------------------------------------\n",
      "training accuracy 0.718\n",
      "validation accuracy 0.712\n",
      "learning rate 0.022300176\n",
      "norm of examples weight 1.0199825\n",
      "--------------------------------------------------\n",
      "training accuracy 0.719\n",
      "validation accuracy 0.71485716\n",
      "learning rate 0.02274472\n",
      "norm of examples weight 1.0653107\n",
      "--------------------------------------------------\n",
      "training accuracy 0.72057146\n",
      "validation accuracy 0.71685714\n",
      "learning rate 0.023158928\n",
      "norm of examples weight 1.1085085\n",
      "--------------------------------------------------\n",
      "training accuracy 0.7227143\n",
      "validation accuracy 0.71814287\n",
      "learning rate 0.023544773\n",
      "norm of examples weight 1.149658\n",
      "--------------------------------------------------\n",
      "training accuracy 0.72414285\n",
      "validation accuracy 0.72014284\n",
      "learning rate 0.023904106\n",
      "norm of examples weight 1.1888547\n",
      "--------------------------------------------------\n"
     ]
    }
   ],
   "source": [
    "# run hyperparameter optimization \n",
    "T = 200 # performs 200 iteraitons of gradient descent on the training error (rise this values for better performances)\n",
    "# get data suppliers (could also be stochastic for SGD)\n",
    "tr_supplier = datasets.train.create_supplier(x, y)\n",
    "val_supplier = datasets.validation.create_supplier(x, y)\n",
    "tf.global_variables_initializer().run()\n",
    "\n",
    "print('training accuracy', accuracy.eval(tr_supplier()))\n",
    "print('validation accuracy', accuracy.eval(val_supplier()))\n",
    "print('-'*50)\n",
    "\n",
    "tr_accs, val_accs = [], []\n",
    "for _ in range(20):\n",
    "    run(T, inner_objective_feed_dicts=tr_supplier, outer_objective_feed_dicts=val_supplier)\n",
    "    tr_accs.append(accuracy.eval(tr_supplier())), val_accs.append(accuracy.eval(val_supplier()))\n",
    "    print('training accuracy', tr_accs[-1])\n",
    "    print('validation accuracy', val_accs[-1])\n",
    "    print('learning rate', lr.eval())\n",
    "    print('norm of examples weight', tf.norm(weights).eval())\n",
    "    print('-'*50)"
   ]
  },
  {
   "cell_type": "code",
   "execution_count": 19,
   "metadata": {},
   "outputs": [
    {
     "data": {
      "text/plain": [
       "<matplotlib.legend.Legend at 0x7fe99fcc0890>"
      ]
     },
     "execution_count": 19,
     "metadata": {},
     "output_type": "execute_result"
    },
    {
     "data": {
      "image/png": "[encoded data removed]",
      "text/plain": [
       "<matplotlib.figure.Figure at 0x7fe99fd1a4d0>"
      ]
     },
     "metadata": {},
     "output_type": "display_data"
    }
   ],
   "source": [
    "plt.plot(tr_accs, label='training accuracy')\n",
    "plt.plot(val_accs, label='validation accuracy')\n",
    "plt.legend(loc=0, frameon=True)\n",
    "# plt.xlim(0, 19)"
   ]
  },
  {
   "cell_type": "code",
   "execution_count": null,
   "metadata": {
    "collapsed": true
   },
   "outputs": [],
   "source": []
  }
 ],
 "metadata": {
  "anaconda-cloud": {},
  "kernelspec": {
   "display_name": "Python [conda env:py27]",
   "language": "python",
   "name": "conda-env-py27-py"
  },
  "language_info": {
   "codemirror_mode": {
    "name": "ipython",
    "version": 2
   },
   "file_extension": ".py",
   "mimetype": "text/x-python",
   "name": "python",
   "nbconvert_exporter": "python",
   "pygments_lexer": "ipython2",
   "version": "2.7.14"
  }
 },
 "nbformat": 4,
 "nbformat_minor": 1
}
